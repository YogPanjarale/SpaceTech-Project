{
 "metadata": {
  "language_info": {
   "codemirror_mode": {
    "name": "ipython",
    "version": 3
   },
   "file_extension": ".py",
   "mimetype": "text/x-python",
   "name": "python",
   "nbconvert_exporter": "python",
   "pygments_lexer": "ipython3",
   "version": "3.9.1"
  },
  "orig_nbformat": 2,
  "kernelspec": {
   "name": "python391jvsc74a57bd063cfa557069a9a679efbe07b88cb412d19a981dda69d58c7135a4a25cea581b1",
   "display_name": "Python 3.9.1 64-bit"
  },
  "metadata": {
   "interpreter": {
    "hash": "63cfa557069a9a679efbe07b88cb412d19a981dda69d58c7135a4a25cea581b1"
   }
  }
 },
 "nbformat": 4,
 "nbformat_minor": 2,
 "cells": [
  {
   "cell_type": "code",
   "execution_count": 40,
   "metadata": {},
   "outputs": [],
   "source": [
    "import pandas as pd"
   ]
  },
  {
   "cell_type": "code",
   "execution_count": 41,
   "metadata": {},
   "outputs": [
    {
     "output_type": "execute_result",
     "data": {
      "text/plain": [
       "   Unnamed: 0       Star_name    Distance  Mass  Radius     Gravity\n",
       "0           0             Sun    0.000016   1.0     1.0  274.269161\n",
       "1           1          Sirius    8.600000  21.0   171.0    0.196972\n",
       "2           2         Canopus  310.000000  15.0    71.0    0.816115\n",
       "3           3  Alpha Centauri    4.400000  11.0    12.0   20.951117\n",
       "4           4        Arcturus   37.000000  11.0    26.0    4.462960"
      ],
      "text/html": "<div>\n<style scoped>\n    .dataframe tbody tr th:only-of-type {\n        vertical-align: middle;\n    }\n\n    .dataframe tbody tr th {\n        vertical-align: top;\n    }\n\n    .dataframe thead th {\n        text-align: right;\n    }\n</style>\n<table border=\"1\" class=\"dataframe\">\n  <thead>\n    <tr style=\"text-align: right;\">\n      <th></th>\n      <th>Unnamed: 0</th>\n      <th>Star_name</th>\n      <th>Distance</th>\n      <th>Mass</th>\n      <th>Radius</th>\n      <th>Gravity</th>\n    </tr>\n  </thead>\n  <tbody>\n    <tr>\n      <th>0</th>\n      <td>0</td>\n      <td>Sun</td>\n      <td>0.000016</td>\n      <td>1.0</td>\n      <td>1.0</td>\n      <td>274.269161</td>\n    </tr>\n    <tr>\n      <th>1</th>\n      <td>1</td>\n      <td>Sirius</td>\n      <td>8.600000</td>\n      <td>21.0</td>\n      <td>171.0</td>\n      <td>0.196972</td>\n    </tr>\n    <tr>\n      <th>2</th>\n      <td>2</td>\n      <td>Canopus</td>\n      <td>310.000000</td>\n      <td>15.0</td>\n      <td>71.0</td>\n      <td>0.816115</td>\n    </tr>\n    <tr>\n      <th>3</th>\n      <td>3</td>\n      <td>Alpha Centauri</td>\n      <td>4.400000</td>\n      <td>11.0</td>\n      <td>12.0</td>\n      <td>20.951117</td>\n    </tr>\n    <tr>\n      <th>4</th>\n      <td>4</td>\n      <td>Arcturus</td>\n      <td>37.000000</td>\n      <td>11.0</td>\n      <td>26.0</td>\n      <td>4.462960</td>\n    </tr>\n  </tbody>\n</table>\n</div>"
     },
     "metadata": {},
     "execution_count": 41
    }
   ],
   "source": [
    "df = pd.read_csv('star_with_gravity.csv')\n",
    "df.head()"
   ]
  },
  {
   "cell_type": "code",
   "execution_count": 42,
   "metadata": {},
   "outputs": [
    {
     "output_type": "execute_result",
     "data": {
      "text/plain": [
       "   Unnamed: 0       Star_name   Distance  Mass  Radius     Gravity\n",
       "0           0             Sun   0.000016   1.0     1.0  274.269161\n",
       "1           1          Sirius   8.600000  21.0   171.0    0.196972\n",
       "3           3  Alpha Centauri   4.400000  11.0    12.0   20.951117\n",
       "4           4        Arcturus  37.000000  11.0    26.0    4.462960\n",
       "5           5            Vega  25.000000  22.0    27.0    8.276984"
      ],
      "text/html": "<div>\n<style scoped>\n    .dataframe tbody tr th:only-of-type {\n        vertical-align: middle;\n    }\n\n    .dataframe tbody tr th {\n        vertical-align: top;\n    }\n\n    .dataframe thead th {\n        text-align: right;\n    }\n</style>\n<table border=\"1\" class=\"dataframe\">\n  <thead>\n    <tr style=\"text-align: right;\">\n      <th></th>\n      <th>Unnamed: 0</th>\n      <th>Star_name</th>\n      <th>Distance</th>\n      <th>Mass</th>\n      <th>Radius</th>\n      <th>Gravity</th>\n    </tr>\n  </thead>\n  <tbody>\n    <tr>\n      <th>0</th>\n      <td>0</td>\n      <td>Sun</td>\n      <td>0.000016</td>\n      <td>1.0</td>\n      <td>1.0</td>\n      <td>274.269161</td>\n    </tr>\n    <tr>\n      <th>1</th>\n      <td>1</td>\n      <td>Sirius</td>\n      <td>8.600000</td>\n      <td>21.0</td>\n      <td>171.0</td>\n      <td>0.196972</td>\n    </tr>\n    <tr>\n      <th>3</th>\n      <td>3</td>\n      <td>Alpha Centauri</td>\n      <td>4.400000</td>\n      <td>11.0</td>\n      <td>12.0</td>\n      <td>20.951117</td>\n    </tr>\n    <tr>\n      <th>4</th>\n      <td>4</td>\n      <td>Arcturus</td>\n      <td>37.000000</td>\n      <td>11.0</td>\n      <td>26.0</td>\n      <td>4.462960</td>\n    </tr>\n    <tr>\n      <th>5</th>\n      <td>5</td>\n      <td>Vega</td>\n      <td>25.000000</td>\n      <td>22.0</td>\n      <td>27.0</td>\n      <td>8.276984</td>\n    </tr>\n  </tbody>\n</table>\n</div>"
     },
     "metadata": {},
     "execution_count": 42
    }
   ],
   "source": [
    "# stars with distance lesss than 100 light years\n",
    "dist_less_than_100 = df[df.Distance< 100]\n",
    "dist_less_than_100.head()"
   ]
  },
  {
   "cell_type": "code",
   "execution_count": 51,
   "metadata": {},
   "outputs": [],
   "source": [
    "# Stars having gravity in range of 150 to 350\n",
    "gravity_less_than_350 = dist_less_than_100[dist_less_than_100.Gravity<float(350)]\n",
    "gravity_in_range_150_to_350:pd.DataFrame =gravity_less_than_350[gravity_less_than_350.Gravity>float(150)]\n",
    "# gravity_in_range_150_to_350.__len__()\n",
    "len(dist_less_than_100),len(gravity_less_than_350),len(gravity_in_range_150_to_350)\n",
    "gravity_in_range_150_to_350.to_csv('filtered_stars.csv')\n"
   ]
  }
 ]
}