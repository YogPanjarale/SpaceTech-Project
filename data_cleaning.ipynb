{
 "metadata": {
  "language_info": {
   "codemirror_mode": {
    "name": "ipython",
    "version": 3
   },
   "file_extension": ".py",
   "mimetype": "text/x-python",
   "name": "python",
   "nbconvert_exporter": "python",
   "pygments_lexer": "ipython3",
   "version": "3.9.1"
  },
  "orig_nbformat": 2,
  "kernelspec": {
   "name": "python391jvsc74a57bd063cfa557069a9a679efbe07b88cb412d19a981dda69d58c7135a4a25cea581b1",
   "display_name": "Python 3.9.1 64-bit"
  },
  "metadata": {
   "interpreter": {
    "hash": "63cfa557069a9a679efbe07b88cb412d19a981dda69d58c7135a4a25cea581b1"
   }
  }
 },
 "nbformat": 4,
 "nbformat_minor": 2,
 "cells": [
  {
   "cell_type": "code",
   "execution_count": 1,
   "metadata": {},
   "outputs": [],
   "source": [
    "import pandas as pd\n",
    "import csv"
   ]
  },
  {
   "cell_type": "code",
   "execution_count": 8,
   "metadata": {},
   "outputs": [
    {
     "output_type": "execute_result",
     "data": {
      "text/plain": [
       "     Unnamed: 0               Star_name     Distance                  Mass  \\\n",
       "0             0                     Sun  0.000015813                     1   \n",
       "1             1                  Sirius       0008.6                   2.1   \n",
       "2             2                 Canopus         0310                    15   \n",
       "3             3          Alpha Centauri       0004.4                   1.1   \n",
       "4             4                Arcturus         0037                   1.1   \n",
       "..          ...                     ...          ...                   ...   \n",
       "250         153  2MASSI J2356547-155310         74.0            0.07636704   \n",
       "251         154          WISE 0410+1502         20.0           0.005727528   \n",
       "252         155         WISE 0458+6434A         35.9  0.014318820000000001   \n",
       "253         156         WISE 0458+6434B         35.9            0.00954588   \n",
       "254         157          WISE 1405+5534         25.3  0.028637640000000002   \n",
       "\n",
       "                  Radius Luminosity  Unnamed: 6  Star_name.1  Distance.1  \\\n",
       "0                      1          1         NaN          NaN         NaN   \n",
       "1                  1.71´       25.4         NaN          NaN         NaN   \n",
       "2                     71     13,500         NaN          NaN         NaN   \n",
       "3                    1.2          2         NaN          NaN         NaN   \n",
       "4                     26        170         NaN          NaN         NaN   \n",
       "..                   ...        ...         ...          ...         ...   \n",
       "250  0.11201167000000001        NaN         NaN          NaN         NaN   \n",
       "251  0.12023270999999998        NaN         NaN          NaN         NaN   \n",
       "252            0.4316046        NaN         NaN          NaN         NaN   \n",
       "253  0.39049939999999994        NaN         NaN          NaN         NaN   \n",
       "254           0.08837618        NaN         NaN          NaN         NaN   \n",
       "\n",
       "     Mass.1  Radius.1  \n",
       "0       NaN       NaN  \n",
       "1       NaN       NaN  \n",
       "2       NaN       NaN  \n",
       "3       NaN       NaN  \n",
       "4       NaN       NaN  \n",
       "..      ...       ...  \n",
       "250     NaN       NaN  \n",
       "251     NaN       NaN  \n",
       "252     NaN       NaN  \n",
       "253     NaN       NaN  \n",
       "254     NaN       NaN  \n",
       "\n",
       "[255 rows x 11 columns]"
      ],
      "text/html": "<div>\n<style scoped>\n    .dataframe tbody tr th:only-of-type {\n        vertical-align: middle;\n    }\n\n    .dataframe tbody tr th {\n        vertical-align: top;\n    }\n\n    .dataframe thead th {\n        text-align: right;\n    }\n</style>\n<table border=\"1\" class=\"dataframe\">\n  <thead>\n    <tr style=\"text-align: right;\">\n      <th></th>\n      <th>Unnamed: 0</th>\n      <th>Star_name</th>\n      <th>Distance</th>\n      <th>Mass</th>\n      <th>Radius</th>\n      <th>Luminosity</th>\n      <th>Unnamed: 6</th>\n      <th>Star_name.1</th>\n      <th>Distance.1</th>\n      <th>Mass.1</th>\n      <th>Radius.1</th>\n    </tr>\n  </thead>\n  <tbody>\n    <tr>\n      <th>0</th>\n      <td>0</td>\n      <td>Sun</td>\n      <td>0.000015813</td>\n      <td>1</td>\n      <td>1</td>\n      <td>1</td>\n      <td>NaN</td>\n      <td>NaN</td>\n      <td>NaN</td>\n      <td>NaN</td>\n      <td>NaN</td>\n    </tr>\n    <tr>\n      <th>1</th>\n      <td>1</td>\n      <td>Sirius</td>\n      <td>0008.6</td>\n      <td>2.1</td>\n      <td>1.71´</td>\n      <td>25.4</td>\n      <td>NaN</td>\n      <td>NaN</td>\n      <td>NaN</td>\n      <td>NaN</td>\n      <td>NaN</td>\n    </tr>\n    <tr>\n      <th>2</th>\n      <td>2</td>\n      <td>Canopus</td>\n      <td>0310</td>\n      <td>15</td>\n      <td>71</td>\n      <td>13,500</td>\n      <td>NaN</td>\n      <td>NaN</td>\n      <td>NaN</td>\n      <td>NaN</td>\n      <td>NaN</td>\n    </tr>\n    <tr>\n      <th>3</th>\n      <td>3</td>\n      <td>Alpha Centauri</td>\n      <td>0004.4</td>\n      <td>1.1</td>\n      <td>1.2</td>\n      <td>2</td>\n      <td>NaN</td>\n      <td>NaN</td>\n      <td>NaN</td>\n      <td>NaN</td>\n      <td>NaN</td>\n    </tr>\n    <tr>\n      <th>4</th>\n      <td>4</td>\n      <td>Arcturus</td>\n      <td>0037</td>\n      <td>1.1</td>\n      <td>26</td>\n      <td>170</td>\n      <td>NaN</td>\n      <td>NaN</td>\n      <td>NaN</td>\n      <td>NaN</td>\n      <td>NaN</td>\n    </tr>\n    <tr>\n      <th>...</th>\n      <td>...</td>\n      <td>...</td>\n      <td>...</td>\n      <td>...</td>\n      <td>...</td>\n      <td>...</td>\n      <td>...</td>\n      <td>...</td>\n      <td>...</td>\n      <td>...</td>\n      <td>...</td>\n    </tr>\n    <tr>\n      <th>250</th>\n      <td>153</td>\n      <td>2MASSI J2356547-155310</td>\n      <td>74.0</td>\n      <td>0.07636704</td>\n      <td>0.11201167000000001</td>\n      <td>NaN</td>\n      <td>NaN</td>\n      <td>NaN</td>\n      <td>NaN</td>\n      <td>NaN</td>\n      <td>NaN</td>\n    </tr>\n    <tr>\n      <th>251</th>\n      <td>154</td>\n      <td>WISE 0410+1502</td>\n      <td>20.0</td>\n      <td>0.005727528</td>\n      <td>0.12023270999999998</td>\n      <td>NaN</td>\n      <td>NaN</td>\n      <td>NaN</td>\n      <td>NaN</td>\n      <td>NaN</td>\n      <td>NaN</td>\n    </tr>\n    <tr>\n      <th>252</th>\n      <td>155</td>\n      <td>WISE 0458+6434A</td>\n      <td>35.9</td>\n      <td>0.014318820000000001</td>\n      <td>0.4316046</td>\n      <td>NaN</td>\n      <td>NaN</td>\n      <td>NaN</td>\n      <td>NaN</td>\n      <td>NaN</td>\n      <td>NaN</td>\n    </tr>\n    <tr>\n      <th>253</th>\n      <td>156</td>\n      <td>WISE 0458+6434B</td>\n      <td>35.9</td>\n      <td>0.00954588</td>\n      <td>0.39049939999999994</td>\n      <td>NaN</td>\n      <td>NaN</td>\n      <td>NaN</td>\n      <td>NaN</td>\n      <td>NaN</td>\n      <td>NaN</td>\n    </tr>\n    <tr>\n      <th>254</th>\n      <td>157</td>\n      <td>WISE 1405+5534</td>\n      <td>25.3</td>\n      <td>0.028637640000000002</td>\n      <td>0.08837618</td>\n      <td>NaN</td>\n      <td>NaN</td>\n      <td>NaN</td>\n      <td>NaN</td>\n      <td>NaN</td>\n      <td>NaN</td>\n    </tr>\n  </tbody>\n</table>\n<p>255 rows × 11 columns</p>\n</div>"
     },
     "metadata": {},
     "execution_count": 8
    }
   ],
   "source": [
    "df = pd.read_csv('total_stars.csv')\n",
    "df"
   ]
  },
  {
   "cell_type": "code",
   "execution_count": 9,
   "metadata": {},
   "outputs": [
    {
     "output_type": "execute_result",
     "data": {
      "text/plain": [
       "Index(['Unnamed: 0', 'Star_name', 'Distance', 'Mass', 'Radius', 'Luminosity',\n",
       "       'Unnamed: 6', 'Star_name.1', 'Distance.1', 'Mass.1', 'Radius.1'],\n",
       "      dtype='object')"
      ]
     },
     "metadata": {},
     "execution_count": 9
    }
   ],
   "source": [
    "df.columns"
   ]
  },
  {
   "cell_type": "code",
   "execution_count": 10,
   "metadata": {},
   "outputs": [
    {
     "output_type": "execute_result",
     "data": {
      "text/plain": [
       "                  Star_name     Distance                  Mass  \\\n",
       "0                       Sun  0.000015813                     1   \n",
       "1                    Sirius       0008.6                   2.1   \n",
       "2                   Canopus         0310                    15   \n",
       "3            Alpha Centauri       0004.4                   1.1   \n",
       "4                  Arcturus         0037                   1.1   \n",
       "..                      ...          ...                   ...   \n",
       "250  2MASSI J2356547-155310         74.0            0.07636704   \n",
       "251          WISE 0410+1502         20.0           0.005727528   \n",
       "252         WISE 0458+6434A         35.9  0.014318820000000001   \n",
       "253         WISE 0458+6434B         35.9            0.00954588   \n",
       "254          WISE 1405+5534         25.3  0.028637640000000002   \n",
       "\n",
       "                  Radius  \n",
       "0                      1  \n",
       "1                  1.71´  \n",
       "2                     71  \n",
       "3                    1.2  \n",
       "4                     26  \n",
       "..                   ...  \n",
       "250  0.11201167000000001  \n",
       "251  0.12023270999999998  \n",
       "252            0.4316046  \n",
       "253  0.39049939999999994  \n",
       "254           0.08837618  \n",
       "\n",
       "[255 rows x 4 columns]"
      ],
      "text/html": "<div>\n<style scoped>\n    .dataframe tbody tr th:only-of-type {\n        vertical-align: middle;\n    }\n\n    .dataframe tbody tr th {\n        vertical-align: top;\n    }\n\n    .dataframe thead th {\n        text-align: right;\n    }\n</style>\n<table border=\"1\" class=\"dataframe\">\n  <thead>\n    <tr style=\"text-align: right;\">\n      <th></th>\n      <th>Star_name</th>\n      <th>Distance</th>\n      <th>Mass</th>\n      <th>Radius</th>\n    </tr>\n  </thead>\n  <tbody>\n    <tr>\n      <th>0</th>\n      <td>Sun</td>\n      <td>0.000015813</td>\n      <td>1</td>\n      <td>1</td>\n    </tr>\n    <tr>\n      <th>1</th>\n      <td>Sirius</td>\n      <td>0008.6</td>\n      <td>2.1</td>\n      <td>1.71´</td>\n    </tr>\n    <tr>\n      <th>2</th>\n      <td>Canopus</td>\n      <td>0310</td>\n      <td>15</td>\n      <td>71</td>\n    </tr>\n    <tr>\n      <th>3</th>\n      <td>Alpha Centauri</td>\n      <td>0004.4</td>\n      <td>1.1</td>\n      <td>1.2</td>\n    </tr>\n    <tr>\n      <th>4</th>\n      <td>Arcturus</td>\n      <td>0037</td>\n      <td>1.1</td>\n      <td>26</td>\n    </tr>\n    <tr>\n      <th>...</th>\n      <td>...</td>\n      <td>...</td>\n      <td>...</td>\n      <td>...</td>\n    </tr>\n    <tr>\n      <th>250</th>\n      <td>2MASSI J2356547-155310</td>\n      <td>74.0</td>\n      <td>0.07636704</td>\n      <td>0.11201167000000001</td>\n    </tr>\n    <tr>\n      <th>251</th>\n      <td>WISE 0410+1502</td>\n      <td>20.0</td>\n      <td>0.005727528</td>\n      <td>0.12023270999999998</td>\n    </tr>\n    <tr>\n      <th>252</th>\n      <td>WISE 0458+6434A</td>\n      <td>35.9</td>\n      <td>0.014318820000000001</td>\n      <td>0.4316046</td>\n    </tr>\n    <tr>\n      <th>253</th>\n      <td>WISE 0458+6434B</td>\n      <td>35.9</td>\n      <td>0.00954588</td>\n      <td>0.39049939999999994</td>\n    </tr>\n    <tr>\n      <th>254</th>\n      <td>WISE 1405+5534</td>\n      <td>25.3</td>\n      <td>0.028637640000000002</td>\n      <td>0.08837618</td>\n    </tr>\n  </tbody>\n</table>\n<p>255 rows × 4 columns</p>\n</div>"
     },
     "metadata": {},
     "execution_count": 10
    }
   ],
   "source": [
    "df.drop(['Unnamed: 0','Unnamed: 6', 'Star_name.1', 'Distance.1', 'Mass.1', 'Radius.1','Luminosity'],axis=1,inplace=True)\n",
    "df"
   ]
  },
  {
   "cell_type": "code",
   "execution_count": 11,
   "metadata": {},
   "outputs": [
    {
     "output_type": "execute_result",
     "data": {
      "text/plain": [
       "                  Star_name     Distance                  Mass  \\\n",
       "0                       Sun  0.000015813                     1   \n",
       "1                    Sirius       0008.6                   2.1   \n",
       "2                   Canopus         0310                    15   \n",
       "3            Alpha Centauri       0004.4                   1.1   \n",
       "4                  Arcturus         0037                   1.1   \n",
       "..                      ...          ...                   ...   \n",
       "250  2MASSI J2356547-155310         74.0            0.07636704   \n",
       "251          WISE 0410+1502         20.0           0.005727528   \n",
       "252         WISE 0458+6434A         35.9  0.014318820000000001   \n",
       "253         WISE 0458+6434B         35.9            0.00954588   \n",
       "254          WISE 1405+5534         25.3  0.028637640000000002   \n",
       "\n",
       "                  Radius  \n",
       "0                      1  \n",
       "1                  1.71´  \n",
       "2                     71  \n",
       "3                    1.2  \n",
       "4                     26  \n",
       "..                   ...  \n",
       "250  0.11201167000000001  \n",
       "251  0.12023270999999998  \n",
       "252            0.4316046  \n",
       "253  0.39049939999999994  \n",
       "254           0.08837618  \n",
       "\n",
       "[254 rows x 4 columns]"
      ],
      "text/html": "<div>\n<style scoped>\n    .dataframe tbody tr th:only-of-type {\n        vertical-align: middle;\n    }\n\n    .dataframe tbody tr th {\n        vertical-align: top;\n    }\n\n    .dataframe thead th {\n        text-align: right;\n    }\n</style>\n<table border=\"1\" class=\"dataframe\">\n  <thead>\n    <tr style=\"text-align: right;\">\n      <th></th>\n      <th>Star_name</th>\n      <th>Distance</th>\n      <th>Mass</th>\n      <th>Radius</th>\n    </tr>\n  </thead>\n  <tbody>\n    <tr>\n      <th>0</th>\n      <td>Sun</td>\n      <td>0.000015813</td>\n      <td>1</td>\n      <td>1</td>\n    </tr>\n    <tr>\n      <th>1</th>\n      <td>Sirius</td>\n      <td>0008.6</td>\n      <td>2.1</td>\n      <td>1.71´</td>\n    </tr>\n    <tr>\n      <th>2</th>\n      <td>Canopus</td>\n      <td>0310</td>\n      <td>15</td>\n      <td>71</td>\n    </tr>\n    <tr>\n      <th>3</th>\n      <td>Alpha Centauri</td>\n      <td>0004.4</td>\n      <td>1.1</td>\n      <td>1.2</td>\n    </tr>\n    <tr>\n      <th>4</th>\n      <td>Arcturus</td>\n      <td>0037</td>\n      <td>1.1</td>\n      <td>26</td>\n    </tr>\n    <tr>\n      <th>...</th>\n      <td>...</td>\n      <td>...</td>\n      <td>...</td>\n      <td>...</td>\n    </tr>\n    <tr>\n      <th>250</th>\n      <td>2MASSI J2356547-155310</td>\n      <td>74.0</td>\n      <td>0.07636704</td>\n      <td>0.11201167000000001</td>\n    </tr>\n    <tr>\n      <th>251</th>\n      <td>WISE 0410+1502</td>\n      <td>20.0</td>\n      <td>0.005727528</td>\n      <td>0.12023270999999998</td>\n    </tr>\n    <tr>\n      <th>252</th>\n      <td>WISE 0458+6434A</td>\n      <td>35.9</td>\n      <td>0.014318820000000001</td>\n      <td>0.4316046</td>\n    </tr>\n    <tr>\n      <th>253</th>\n      <td>WISE 0458+6434B</td>\n      <td>35.9</td>\n      <td>0.00954588</td>\n      <td>0.39049939999999994</td>\n    </tr>\n    <tr>\n      <th>254</th>\n      <td>WISE 1405+5534</td>\n      <td>25.3</td>\n      <td>0.028637640000000002</td>\n      <td>0.08837618</td>\n    </tr>\n  </tbody>\n</table>\n<p>254 rows × 4 columns</p>\n</div>"
     },
     "metadata": {},
     "execution_count": 11
    }
   ],
   "source": [
    "final_data = df.dropna()\n",
    "final_data"
   ]
  },
  {
   "cell_type": "code",
   "execution_count": 12,
   "metadata": {},
   "outputs": [
    {
     "output_type": "execute_result",
     "data": {
      "text/plain": [
       "                  Star_name     Distance                  Mass  \\\n",
       "0                       Sun  0.000015813                     1   \n",
       "1                    Sirius       0008.6                   2.1   \n",
       "2                   Canopus         0310                    15   \n",
       "3            Alpha Centauri       0004.4                   1.1   \n",
       "4                  Arcturus         0037                   1.1   \n",
       "..                      ...          ...                   ...   \n",
       "249  2MASSI J2356547-155310         74.0            0.07636704   \n",
       "250          WISE 0410+1502         20.0           0.005727528   \n",
       "251         WISE 0458+6434A         35.9  0.014318820000000001   \n",
       "252         WISE 0458+6434B         35.9            0.00954588   \n",
       "253          WISE 1405+5534         25.3  0.028637640000000002   \n",
       "\n",
       "                  Radius  \n",
       "0                      1  \n",
       "1                  1.71´  \n",
       "2                     71  \n",
       "3                    1.2  \n",
       "4                     26  \n",
       "..                   ...  \n",
       "249  0.11201167000000001  \n",
       "250  0.12023270999999998  \n",
       "251            0.4316046  \n",
       "252  0.39049939999999994  \n",
       "253           0.08837618  \n",
       "\n",
       "[254 rows x 4 columns]"
      ],
      "text/html": "<div>\n<style scoped>\n    .dataframe tbody tr th:only-of-type {\n        vertical-align: middle;\n    }\n\n    .dataframe tbody tr th {\n        vertical-align: top;\n    }\n\n    .dataframe thead th {\n        text-align: right;\n    }\n</style>\n<table border=\"1\" class=\"dataframe\">\n  <thead>\n    <tr style=\"text-align: right;\">\n      <th></th>\n      <th>Star_name</th>\n      <th>Distance</th>\n      <th>Mass</th>\n      <th>Radius</th>\n    </tr>\n  </thead>\n  <tbody>\n    <tr>\n      <th>0</th>\n      <td>Sun</td>\n      <td>0.000015813</td>\n      <td>1</td>\n      <td>1</td>\n    </tr>\n    <tr>\n      <th>1</th>\n      <td>Sirius</td>\n      <td>0008.6</td>\n      <td>2.1</td>\n      <td>1.71´</td>\n    </tr>\n    <tr>\n      <th>2</th>\n      <td>Canopus</td>\n      <td>0310</td>\n      <td>15</td>\n      <td>71</td>\n    </tr>\n    <tr>\n      <th>3</th>\n      <td>Alpha Centauri</td>\n      <td>0004.4</td>\n      <td>1.1</td>\n      <td>1.2</td>\n    </tr>\n    <tr>\n      <th>4</th>\n      <td>Arcturus</td>\n      <td>0037</td>\n      <td>1.1</td>\n      <td>26</td>\n    </tr>\n    <tr>\n      <th>...</th>\n      <td>...</td>\n      <td>...</td>\n      <td>...</td>\n      <td>...</td>\n    </tr>\n    <tr>\n      <th>249</th>\n      <td>2MASSI J2356547-155310</td>\n      <td>74.0</td>\n      <td>0.07636704</td>\n      <td>0.11201167000000001</td>\n    </tr>\n    <tr>\n      <th>250</th>\n      <td>WISE 0410+1502</td>\n      <td>20.0</td>\n      <td>0.005727528</td>\n      <td>0.12023270999999998</td>\n    </tr>\n    <tr>\n      <th>251</th>\n      <td>WISE 0458+6434A</td>\n      <td>35.9</td>\n      <td>0.014318820000000001</td>\n      <td>0.4316046</td>\n    </tr>\n    <tr>\n      <th>252</th>\n      <td>WISE 0458+6434B</td>\n      <td>35.9</td>\n      <td>0.00954588</td>\n      <td>0.39049939999999994</td>\n    </tr>\n    <tr>\n      <th>253</th>\n      <td>WISE 1405+5534</td>\n      <td>25.3</td>\n      <td>0.028637640000000002</td>\n      <td>0.08837618</td>\n    </tr>\n  </tbody>\n</table>\n<p>254 rows × 4 columns</p>\n</div>"
     },
     "metadata": {},
     "execution_count": 12
    }
   ],
   "source": [
    "final_data.reset_index(drop=True,inplace = True)\n",
    "final_data"
   ]
  },
  {
   "cell_type": "code",
   "execution_count": 13,
   "metadata": {},
   "outputs": [],
   "source": [
    "final_data.to_csv('final_data.csv')"
   ]
  },
  {
   "cell_type": "code",
   "execution_count": 14,
   "metadata": {},
   "outputs": [
    {
     "output_type": "stream",
     "name": "stdout",
     "text": [
      "<class 'pandas.core.frame.DataFrame'>\nRangeIndex: 254 entries, 0 to 253\nData columns (total 4 columns):\n #   Column     Non-Null Count  Dtype \n---  ------     --------------  ----- \n 0   Star_name  254 non-null    object\n 1   Distance   254 non-null    object\n 2   Mass       254 non-null    object\n 3   Radius     254 non-null    object\ndtypes: object(4)\nmemory usage: 8.1+ KB\n"
     ]
    }
   ],
   "source": [
    "final_data.info()"
   ]
  },
  {
   "cell_type": "code",
   "execution_count": 15,
   "metadata": {},
   "outputs": [
    {
     "output_type": "execute_result",
     "data": {
      "text/plain": [
       "        Star_name     Distance Mass Radius\n",
       "0             Sun  0.000015813    1      1\n",
       "1          Sirius       0008.6  2.1  1.71´\n",
       "2         Canopus         0310   15     71\n",
       "3  Alpha Centauri       0004.4  1.1    1.2\n",
       "4        Arcturus         0037  1.1     26"
      ],
      "text/html": "<div>\n<style scoped>\n    .dataframe tbody tr th:only-of-type {\n        vertical-align: middle;\n    }\n\n    .dataframe tbody tr th {\n        vertical-align: top;\n    }\n\n    .dataframe thead th {\n        text-align: right;\n    }\n</style>\n<table border=\"1\" class=\"dataframe\">\n  <thead>\n    <tr style=\"text-align: right;\">\n      <th></th>\n      <th>Star_name</th>\n      <th>Distance</th>\n      <th>Mass</th>\n      <th>Radius</th>\n    </tr>\n  </thead>\n  <tbody>\n    <tr>\n      <th>0</th>\n      <td>Sun</td>\n      <td>0.000015813</td>\n      <td>1</td>\n      <td>1</td>\n    </tr>\n    <tr>\n      <th>1</th>\n      <td>Sirius</td>\n      <td>0008.6</td>\n      <td>2.1</td>\n      <td>1.71´</td>\n    </tr>\n    <tr>\n      <th>2</th>\n      <td>Canopus</td>\n      <td>0310</td>\n      <td>15</td>\n      <td>71</td>\n    </tr>\n    <tr>\n      <th>3</th>\n      <td>Alpha Centauri</td>\n      <td>0004.4</td>\n      <td>1.1</td>\n      <td>1.2</td>\n    </tr>\n    <tr>\n      <th>4</th>\n      <td>Arcturus</td>\n      <td>0037</td>\n      <td>1.1</td>\n      <td>26</td>\n    </tr>\n  </tbody>\n</table>\n</div>"
     },
     "metadata": {},
     "execution_count": 15
    }
   ],
   "source": [
    "final_data.describe()\n",
    "final_data.head(5)"
   ]
  },
  {
   "cell_type": "code",
   "execution_count": 16,
   "metadata": {},
   "outputs": [
    {
     "output_type": "execute_result",
     "data": {
      "text/plain": [
       "Star_name    object\n",
       "Distance     object\n",
       "Mass         object\n",
       "Radius       object\n",
       "dtype: object"
      ]
     },
     "metadata": {},
     "execution_count": 16
    }
   ],
   "source": [
    "final_data.dtypes"
   ]
  }
 ]
}