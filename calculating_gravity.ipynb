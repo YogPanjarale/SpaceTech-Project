{
 "metadata": {
  "language_info": {
   "codemirror_mode": {
    "name": "ipython",
    "version": 3
   },
   "file_extension": ".py",
   "mimetype": "text/x-python",
   "name": "python",
   "nbconvert_exporter": "python",
   "pygments_lexer": "ipython3",
   "version": "3.9.1"
  },
  "orig_nbformat": 2,
  "kernelspec": {
   "name": "python391jvsc74a57bd063cfa557069a9a679efbe07b88cb412d19a981dda69d58c7135a4a25cea581b1",
   "display_name": "Python 3.9.1 64-bit"
  },
  "metadata": {
   "interpreter": {
    "hash": "63cfa557069a9a679efbe07b88cb412d19a981dda69d58c7135a4a25cea581b1"
   }
  }
 },
 "nbformat": 4,
 "nbformat_minor": 2,
 "cells": [
  {
   "cell_type": "code",
   "execution_count": 31,
   "metadata": {},
   "outputs": [],
   "source": [
    "import pandas as pd"
   ]
  },
  {
   "cell_type": "code",
   "execution_count": 32,
   "metadata": {},
   "outputs": [
    {
     "output_type": "execute_result",
     "data": {
      "text/plain": [
       "   Unnamed: 0       Star_name     Distance Mass Radius\n",
       "0           0             Sun  0.000015813    1      1\n",
       "1           1          Sirius       0008.6  2.1   1.71\n",
       "2           2         Canopus         0310   15     71\n",
       "3           3  Alpha Centauri       0004.4  1.1    1.2\n",
       "4           4        Arcturus         0037  1.1     26"
      ],
      "text/html": "<div>\n<style scoped>\n    .dataframe tbody tr th:only-of-type {\n        vertical-align: middle;\n    }\n\n    .dataframe tbody tr th {\n        vertical-align: top;\n    }\n\n    .dataframe thead th {\n        text-align: right;\n    }\n</style>\n<table border=\"1\" class=\"dataframe\">\n  <thead>\n    <tr style=\"text-align: right;\">\n      <th></th>\n      <th>Unnamed: 0</th>\n      <th>Star_name</th>\n      <th>Distance</th>\n      <th>Mass</th>\n      <th>Radius</th>\n    </tr>\n  </thead>\n  <tbody>\n    <tr>\n      <th>0</th>\n      <td>0</td>\n      <td>Sun</td>\n      <td>0.000015813</td>\n      <td>1</td>\n      <td>1</td>\n    </tr>\n    <tr>\n      <th>1</th>\n      <td>1</td>\n      <td>Sirius</td>\n      <td>0008.6</td>\n      <td>2.1</td>\n      <td>1.71</td>\n    </tr>\n    <tr>\n      <th>2</th>\n      <td>2</td>\n      <td>Canopus</td>\n      <td>0310</td>\n      <td>15</td>\n      <td>71</td>\n    </tr>\n    <tr>\n      <th>3</th>\n      <td>3</td>\n      <td>Alpha Centauri</td>\n      <td>0004.4</td>\n      <td>1.1</td>\n      <td>1.2</td>\n    </tr>\n    <tr>\n      <th>4</th>\n      <td>4</td>\n      <td>Arcturus</td>\n      <td>0037</td>\n      <td>1.1</td>\n      <td>26</td>\n    </tr>\n  </tbody>\n</table>\n</div>"
     },
     "metadata": {},
     "execution_count": 32
    }
   ],
   "source": [
    "df = pd.read_csv('final_data.csv')\n",
    "df.head()"
   ]
  },
  {
   "cell_type": "code",
   "execution_count": 33,
   "metadata": {},
   "outputs": [
    {
     "output_type": "execute_result",
     "data": {
      "text/plain": [
       "Index(['Unnamed: 0', 'Star_name', 'Distance', 'Mass', 'Radius'], dtype='object')"
      ]
     },
     "metadata": {},
     "execution_count": 33
    }
   ],
   "source": [
    "df.columns"
   ]
  },
  {
   "cell_type": "code",
   "execution_count": 34,
   "metadata": {},
   "outputs": [
    {
     "output_type": "execute_result",
     "data": {
      "text/plain": [
       "        Star_name     Distance Mass Radius\n",
       "0             Sun  0.000015813    1      1\n",
       "1          Sirius       0008.6  2.1   1.71\n",
       "2         Canopus         0310   15     71\n",
       "3  Alpha Centauri       0004.4  1.1    1.2\n",
       "4        Arcturus         0037  1.1     26"
      ],
      "text/html": "<div>\n<style scoped>\n    .dataframe tbody tr th:only-of-type {\n        vertical-align: middle;\n    }\n\n    .dataframe tbody tr th {\n        vertical-align: top;\n    }\n\n    .dataframe thead th {\n        text-align: right;\n    }\n</style>\n<table border=\"1\" class=\"dataframe\">\n  <thead>\n    <tr style=\"text-align: right;\">\n      <th></th>\n      <th>Star_name</th>\n      <th>Distance</th>\n      <th>Mass</th>\n      <th>Radius</th>\n    </tr>\n  </thead>\n  <tbody>\n    <tr>\n      <th>0</th>\n      <td>Sun</td>\n      <td>0.000015813</td>\n      <td>1</td>\n      <td>1</td>\n    </tr>\n    <tr>\n      <th>1</th>\n      <td>Sirius</td>\n      <td>0008.6</td>\n      <td>2.1</td>\n      <td>1.71</td>\n    </tr>\n    <tr>\n      <th>2</th>\n      <td>Canopus</td>\n      <td>0310</td>\n      <td>15</td>\n      <td>71</td>\n    </tr>\n    <tr>\n      <th>3</th>\n      <td>Alpha Centauri</td>\n      <td>0004.4</td>\n      <td>1.1</td>\n      <td>1.2</td>\n    </tr>\n    <tr>\n      <th>4</th>\n      <td>Arcturus</td>\n      <td>0037</td>\n      <td>1.1</td>\n      <td>26</td>\n    </tr>\n  </tbody>\n</table>\n</div>"
     },
     "metadata": {},
     "execution_count": 34
    }
   ],
   "source": [
    "df.drop(['Unnamed: 0'],axis=1,inplace=True)\n",
    "df.head()"
   ]
  },
  {
   "cell_type": "code",
   "execution_count": 35,
   "metadata": {},
   "outputs": [
    {
     "output_type": "execute_result",
     "data": {
      "text/plain": [
       "Star_name    object\n",
       "Distance     object\n",
       "Mass         object\n",
       "Radius       object\n",
       "dtype: object"
      ]
     },
     "metadata": {},
     "execution_count": 35
    }
   ],
   "source": [
    "df.dtypes\n"
   ]
  },
  {
   "cell_type": "code",
   "execution_count": 42,
   "metadata": {},
   "outputs": [
    {
     "output_type": "execute_result",
     "data": {
      "text/plain": [
       "1.5813e-05"
      ]
     },
     "metadata": {},
     "execution_count": 42
    }
   ],
   "source": [
    "def format_(x):\n",
    "    if isinstance(x,str):\n",
    "        toreplace = ',.<[]'\n",
    "        for t in toreplace:\n",
    "            if t in x:\n",
    "                x=x.replace(t,'')\n",
    "        if '?' in x: \n",
    "            x='nan'\n",
    "        for m in ['-','–']:\n",
    "            if m in x:\n",
    "                t=x.strip().split(m)\n",
    "                a,b=t\n",
    "                t= sum([float(a),float(b)])/2\n",
    "                x=str(t)\n",
    "        return float(x)\n",
    "    if isinstance(x,float):\n",
    "        return x\n",
    "    print(x,end=' ')\n",
    "    return x\n",
    "def dist_format(x):\n",
    "    try:\n",
    "        return float(x)\n",
    "    except:\n",
    "        for m in '[],':\n",
    "            if m in x:\n",
    "                x=x.replace(m,'')\n",
    "        return float(x)\n",
    "df['Radius']= df['Radius'].apply(format_)\n",
    "df['Mass']= df['Mass'].apply(format_)\n",
    "df['Distance']= df['Distance'].apply(dist_format)\n",
    "df.head()"
   ]
  },
  {
   "cell_type": "code",
   "execution_count": 37,
   "metadata": {},
   "outputs": [
    {
     "output_type": "execute_result",
     "data": {
      "text/plain": [
       "Star_name     object\n",
       "Distance     float64\n",
       "Mass         float64\n",
       "Radius       float64\n",
       "dtype: object"
      ]
     },
     "metadata": {},
     "execution_count": 37
    }
   ],
   "source": [
    "df.dtypes"
   ]
  },
  {
   "cell_type": "code",
   "execution_count": 38,
   "metadata": {},
   "outputs": [],
   "source": [
    "\n",
    "radius = df['Radius'].to_list()\n",
    "mass = df['Mass'].to_list()\n",
    "gravity =[]\n",
    "\n",
    "#converting solar mass and radius into km & kg\n",
    "def convert_to_si(radius,mass):\n",
    "    for i in range(0,len(radius)-1):\n",
    "        radius[i] = radius[i]*float('6.957e+8')\n",
    "        mass[i] = mass[i]*float('1.989e+30')\n",
    "        \n",
    "convert_to_si(radius,mass)"
   ]
  },
  {
   "cell_type": "code",
   "execution_count": 39,
   "metadata": {},
   "outputs": [
    {
     "output_type": "execute_result",
     "data": {
      "text/plain": [
       "                  Star_name    Distance          Mass        Radius  \\\n",
       "0                       Sun    0.000016  1.000000e+00  1.000000e+00   \n",
       "1                    Sirius    8.600000  2.100000e+01  1.710000e+02   \n",
       "2                   Canopus  310.000000  1.500000e+01  7.100000e+01   \n",
       "3            Alpha Centauri    4.400000  1.100000e+01  1.200000e+01   \n",
       "4                  Arcturus   37.000000  1.100000e+01  2.600000e+01   \n",
       "..                      ...         ...           ...           ...   \n",
       "249  2MASSI J2356547-155310   74.000000  7.636704e+06  1.120117e+16   \n",
       "250          WISE 0410+1502   20.000000  5.727528e+06  1.202327e+16   \n",
       "251         WISE 0458+6434A   35.900000  1.431882e+16  4.316046e+06   \n",
       "252         WISE 0458+6434B   35.900000  9.545880e+05  3.904994e+16   \n",
       "253          WISE 1405+5534   25.300000  2.863764e+16  8.837618e+06   \n",
       "\n",
       "          Gravity  \n",
       "0    2.742692e+02  \n",
       "1    1.969718e-01  \n",
       "2    8.161153e-01  \n",
       "3    2.095112e+01  \n",
       "4    4.462960e+00  \n",
       "..            ...  \n",
       "249  1.669385e-23  \n",
       "250  1.086673e-23  \n",
       "251  2.108201e+05  \n",
       "252  1.716928e-25  \n",
       "253  2.447107e-08  \n",
       "\n",
       "[254 rows x 5 columns]"
      ],
      "text/html": "<div>\n<style scoped>\n    .dataframe tbody tr th:only-of-type {\n        vertical-align: middle;\n    }\n\n    .dataframe tbody tr th {\n        vertical-align: top;\n    }\n\n    .dataframe thead th {\n        text-align: right;\n    }\n</style>\n<table border=\"1\" class=\"dataframe\">\n  <thead>\n    <tr style=\"text-align: right;\">\n      <th></th>\n      <th>Star_name</th>\n      <th>Distance</th>\n      <th>Mass</th>\n      <th>Radius</th>\n      <th>Gravity</th>\n    </tr>\n  </thead>\n  <tbody>\n    <tr>\n      <th>0</th>\n      <td>Sun</td>\n      <td>0.000016</td>\n      <td>1.000000e+00</td>\n      <td>1.000000e+00</td>\n      <td>2.742692e+02</td>\n    </tr>\n    <tr>\n      <th>1</th>\n      <td>Sirius</td>\n      <td>8.600000</td>\n      <td>2.100000e+01</td>\n      <td>1.710000e+02</td>\n      <td>1.969718e-01</td>\n    </tr>\n    <tr>\n      <th>2</th>\n      <td>Canopus</td>\n      <td>310.000000</td>\n      <td>1.500000e+01</td>\n      <td>7.100000e+01</td>\n      <td>8.161153e-01</td>\n    </tr>\n    <tr>\n      <th>3</th>\n      <td>Alpha Centauri</td>\n      <td>4.400000</td>\n      <td>1.100000e+01</td>\n      <td>1.200000e+01</td>\n      <td>2.095112e+01</td>\n    </tr>\n    <tr>\n      <th>4</th>\n      <td>Arcturus</td>\n      <td>37.000000</td>\n      <td>1.100000e+01</td>\n      <td>2.600000e+01</td>\n      <td>4.462960e+00</td>\n    </tr>\n    <tr>\n      <th>...</th>\n      <td>...</td>\n      <td>...</td>\n      <td>...</td>\n      <td>...</td>\n      <td>...</td>\n    </tr>\n    <tr>\n      <th>249</th>\n      <td>2MASSI J2356547-155310</td>\n      <td>74.000000</td>\n      <td>7.636704e+06</td>\n      <td>1.120117e+16</td>\n      <td>1.669385e-23</td>\n    </tr>\n    <tr>\n      <th>250</th>\n      <td>WISE 0410+1502</td>\n      <td>20.000000</td>\n      <td>5.727528e+06</td>\n      <td>1.202327e+16</td>\n      <td>1.086673e-23</td>\n    </tr>\n    <tr>\n      <th>251</th>\n      <td>WISE 0458+6434A</td>\n      <td>35.900000</td>\n      <td>1.431882e+16</td>\n      <td>4.316046e+06</td>\n      <td>2.108201e+05</td>\n    </tr>\n    <tr>\n      <th>252</th>\n      <td>WISE 0458+6434B</td>\n      <td>35.900000</td>\n      <td>9.545880e+05</td>\n      <td>3.904994e+16</td>\n      <td>1.716928e-25</td>\n    </tr>\n    <tr>\n      <th>253</th>\n      <td>WISE 1405+5534</td>\n      <td>25.300000</td>\n      <td>2.863764e+16</td>\n      <td>8.837618e+06</td>\n      <td>2.447107e-08</td>\n    </tr>\n  </tbody>\n</table>\n<p>254 rows × 5 columns</p>\n</div>"
     },
     "metadata": {},
     "execution_count": 39
    }
   ],
   "source": [
    "def gravity_calculation(radius,mass):\n",
    "    G = 6.674e-11\n",
    "    for index in range(0,len(mass)):\n",
    "        g= (mass[index]*G)/((radius[index])**2)\n",
    "        gravity.append(g)\n",
    "        \n",
    "gravity_calculation(radius,mass)\n",
    "\n",
    "df[\"Gravity\"] = gravity\n",
    "df"
   ]
  },
  {
   "cell_type": "code",
   "execution_count": 40,
   "metadata": {},
   "outputs": [],
   "source": [
    "df.to_csv(\"star_with_gravity.csv\")"
   ]
  }
 ]
}